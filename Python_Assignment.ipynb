{
  "nbformat": 4,
  "nbformat_minor": 0,
  "metadata": {
    "colab": {
      "provenance": []
    },
    "kernelspec": {
      "name": "python3",
      "display_name": "Python 3"
    },
    "language_info": {
      "name": "python"
    }
  },
  "cells": [
    {
      "cell_type": "markdown",
      "source": [
        "#Python Assignment#\n",
        "\n",
        "Q1. What is Python, and why is it popular\n",
        "\n",
        "Ans:Python is a computer programming language often used to build websites and software, automate tasks, and analyze data.\n",
        "\n",
        "  1.Easy to learn 2.lot of Libraries 3.A huge community 3.most accessible open-source coding language 4.Python is efficient, fast, and reliable.5t has a simple syntax to code.\n",
        "\n",
        "Q2. What is an interpreter in Python?\n",
        "\n",
        "Ans:A python interpreter is a computer program that converts each high-level program statement into machine code.\n",
        "\n",
        "Q3. What are pre-defined keywords in Python?\n",
        "\n",
        "Ans:Keywords are some predefined and reserved words in Python that have special meanings. Keywords are used to define the syntax of the coding.\n",
        "\n",
        "Some keywords are-.alse, True, None, and, as, assert, async, await, def, del, elif, else, break, class, continue, except, finally, for, from, global, if, import, in, is, lambda, nonlocal, not, or, pass, raise, return, try, while, with and yield.\n",
        "\n",
        "Q4.Can keywords be used as variable names?\n",
        "\n",
        "Ans:No, keywords cannot be used as variable names.\n",
        "\n",
        "Q5. What is mutability in Python?\n",
        "\n",
        "Ans:Mutability in Python  is the ability of an object to be changed after it is created.\n",
        "\n",
        "Q6. Why are lists mutable, but tuples are immutable?\n",
        "\n",
        "Ans:Because their contents cannot be changed after creation.\n",
        "\n",
        "Q7. What is the difference between “==” and “is” operators in Python\n",
        "\n",
        "Ans:”==” evaluates whether the values of two objects are the same\n",
        "        “is” are used to compare objects based on their identity.\n",
        "\n",
        "Q8. What are logical operators in Python?\n",
        "\n",
        "Ans:Logical operators are used to combine multiple conditions together and evaluate them as a single boolean expression.\n",
        "   logical operators in Python: “and”, “or”, and “no”.\n",
        "\n",
        "Q9.What is type casting in Python?\n",
        "\n",
        "Ans:Type casting is a process that converts a variable's data type into another data type.\n",
        "\n",
        "Q10. What is the difference between implicit and explicit type casting?\n",
        "\n",
        "Ans:Implicit type casting happens automatically, while explicit type casting requires manual intervention.\n",
        "\n",
        "Q11. What is the purpose of conditional statements in Python?\n",
        "  \n",
        "Ans:The purpose of conditional statements in Python is to control the flow of a program by making decisions based on certain conditions.\n",
        "\n",
        "Q12. How does the elif statement work?\n",
        "\n",
        "Ans:In Python, elif is short for \"else if\" and is used when the first if statement isn't true, but you want to check for another condition. Meaning, if statements pair up with elif and else statements to perform a series of checks.\n",
        "\n",
        "Q13. What is the difference between for and while loops?\n",
        "\n",
        "Ans:The main difference between a for loop and a while loop is that a for loop is used when the number of iterations is known, while a while loop is used when the number of iterations is unknown And To do number calculations, both while and for loops can be used, but typically a for loop is preferred if you know the exact number of iterations.\n",
        "\n",
        "Q14.Describe a scenario where a while loop is more suitable than a for loop.\n",
        "\n",
        "Ans:Use a while loop when you need to continue looping until a specific condition is met, rather than a set number of times.\n",
        "\n",
        "for example Imagine you're building a login system where the user is prompted to enter a password. The program should continue prompting the user until they enter the correct password, but you don't know how many attempts the user will need.\n",
        "\n",
        "\n"
      ],
      "metadata": {
        "id": "fHxQRUnUta1s"
      }
    },
    {
      "cell_type": "markdown",
      "source": [
        "#Practical Questions\n",
        "\n",
        "Q1.Write a Python program to print \"Hello, World!\"\n",
        "\n"
      ],
      "metadata": {
        "id": "OSQn-Vv9p1Ol"
      }
    },
    {
      "cell_type": "code",
      "source": [
        "print(\"Hello, World\")"
      ],
      "metadata": {
        "colab": {
          "base_uri": "https://localhost:8080/"
        },
        "id": "9Yz-zYTXqN6G",
        "outputId": "cb0a8a5e-abc7-4abf-e2bf-3c209011cc23"
      },
      "execution_count": null,
      "outputs": [
        {
          "output_type": "stream",
          "name": "stdout",
          "text": [
            "Hello, World\n"
          ]
        }
      ]
    },
    {
      "cell_type": "markdown",
      "source": [
        "Q2.Write a Python program that displays your name and age.\n"
      ],
      "metadata": {
        "id": "e-F7W1lyqqMb"
      }
    },
    {
      "cell_type": "code",
      "source": [
        "name=input(\"Enter your name :\")\n",
        "age=int(input(\"Enter your age :\"))\n",
        "print(\"My name is : \",name,\"and my age is : \",age)\n"
      ],
      "metadata": {
        "colab": {
          "base_uri": "https://localhost:8080/"
        },
        "id": "G-TikyHIq7rf",
        "outputId": "13bfc0f6-6215-48af-cbe2-796dca0779a8"
      },
      "execution_count": null,
      "outputs": [
        {
          "output_type": "stream",
          "name": "stdout",
          "text": [
            "Enter your name :Divya\n",
            "Enter your age :30\n",
            "My name is :  Divya and my age is :  30\n"
          ]
        }
      ]
    },
    {
      "cell_type": "markdown",
      "source": [
        "Q3.Write code to print all the pre-defined keywords in Python using the keyword library.\n"
      ],
      "metadata": {
        "id": "sDKy9ShSyIOk"
      }
    },
    {
      "cell_type": "code",
      "source": [
        "import keyword\n",
        "print(keyword.kwlist)"
      ],
      "metadata": {
        "colab": {
          "base_uri": "https://localhost:8080/"
        },
        "id": "OiHUgHqpyQ8U",
        "outputId": "3f29ded8-5e75-49a2-a06a-a7216f410126"
      },
      "execution_count": null,
      "outputs": [
        {
          "output_type": "stream",
          "name": "stdout",
          "text": [
            "['False', 'None', 'True', 'and', 'as', 'assert', 'async', 'await', 'break', 'class', 'continue', 'def', 'del', 'elif', 'else', 'except', 'finally', 'for', 'from', 'global', 'if', 'import', 'in', 'is', 'lambda', 'nonlocal', 'not', 'or', 'pass', 'raise', 'return', 'try', 'while', 'with', 'yield']\n"
          ]
        }
      ]
    },
    {
      "cell_type": "code",
      "source": [
        "help(\"keywords\")"
      ],
      "metadata": {
        "colab": {
          "base_uri": "https://localhost:8080/"
        },
        "id": "yMvodnnS2ZiZ",
        "outputId": "11a0c939-691c-4cb2-b334-585ed293bd7c"
      },
      "execution_count": null,
      "outputs": [
        {
          "output_type": "stream",
          "name": "stdout",
          "text": [
            "\n",
            "Here is a list of the Python keywords.  Enter any keyword to get more help.\n",
            "\n",
            "False               class               from                or\n",
            "None                continue            global              pass\n",
            "True                def                 if                  raise\n",
            "and                 del                 import              return\n",
            "as                  elif                in                  try\n",
            "assert              else                is                  while\n",
            "async               except              lambda              with\n",
            "await               finally             nonlocal            yield\n",
            "break               for                 not                 \n",
            "\n"
          ]
        }
      ]
    },
    {
      "cell_type": "markdown",
      "source": [
        "Q4.Write a program that checks if a given word is a Python."
      ],
      "metadata": {
        "id": "3_1cbf0C2hhi"
      }
    },
    {
      "cell_type": "code",
      "source": [
        "import keyword\n",
        "\n",
        "def is_python_keyword(word):\n",
        "    # Check if the word is a Python keyword\n",
        "    if keyword.iskeyword(word):\n",
        "        return f\"'{word}' is a Python keyword.\"\n",
        "    else:\n",
        "        return f\"'{word}' is NOT a Python keyword.\"\n",
        "\n",
        "# Test the function\n",
        "word = input(\"Enter a word to check if it's a Python keyword: \")\n",
        "print(is_python_keyword(word))\n"
      ],
      "metadata": {
        "id": "ma1LCwit2lod",
        "colab": {
          "base_uri": "https://localhost:8080/"
        },
        "outputId": "92b728b8-48db-454c-b482-1ea8c098efbb"
      },
      "execution_count": 7,
      "outputs": [
        {
          "output_type": "stream",
          "name": "stdout",
          "text": [
            "Enter a word to check if it's a Python keyword: and\n",
            "'and' is a Python keyword.\n"
          ]
        }
      ]
    },
    {
      "cell_type": "markdown",
      "source": [
        "Q5.Create a list and tuple in Python, and demonstrate how attempting to change an element works differently for each.\n"
      ],
      "metadata": {
        "id": "iNcMX0T0_Iil"
      }
    },
    {
      "cell_type": "code",
      "source": [
        "my_list = [10, 20, 30, 40]\n",
        "\n",
        "# Changing an element in the list\n",
        "my_list[2] = 99  # This will change the third element (index 2) to 99\n",
        "print(\"List after modification:\", my_list)\n",
        "\n",
        "# Creating a tuple\n",
        "my_tuple = (10, 20, 30, 40)\n",
        "\n",
        "# Attempting to change an element in the tuple\n",
        "try:\n",
        "    my_tuple[2] = 99  # This will raise an error since tuples are immutable\n",
        "except TypeError as e:\n",
        "    print(\"Error while modifying tuple:\", e)\n"
      ],
      "metadata": {
        "id": "qO8Ccsq3_eET",
        "colab": {
          "base_uri": "https://localhost:8080/"
        },
        "outputId": "74f0106e-5718-469e-8bbd-3c039a5bcca8"
      },
      "execution_count": 2,
      "outputs": [
        {
          "output_type": "stream",
          "name": "stdout",
          "text": [
            "List after modification: [10, 20, 99, 40]\n",
            "Error while modifying tuple: 'tuple' object does not support item assignment\n"
          ]
        }
      ]
    },
    {
      "cell_type": "markdown",
      "source": [
        "Q6.Write a function to demonstrate the behavior of mutable and immutable arguments.\n"
      ],
      "metadata": {
        "id": "61g8E_7DwZqv"
      }
    },
    {
      "cell_type": "code",
      "source": [
        "#behavior of mutable argument\n",
        "lst1 = [1, 2, 3]\n",
        "lst2 = lst1\n",
        "lst2.append(4)\n",
        "print(\"lst1:\", lst1)\n",
        "print(\"lst2:\", lst2)\n",
        "print(\"Are 'lst1' and 'lst2' identical\", lst1 is lst2)"
      ],
      "metadata": {
        "colab": {
          "base_uri": "https://localhost:8080/"
        },
        "id": "i17-V2yF2pcH",
        "outputId": "01140b65-7836-45e3-87ff-33ab81d4d097"
      },
      "execution_count": 17,
      "outputs": [
        {
          "output_type": "stream",
          "name": "stdout",
          "text": [
            "lst1: [1, 2, 3, 4]\n",
            "lst2: [1, 2, 3, 4]\n",
            "Are 'lst1' and 'lst2' identical True\n"
          ]
        }
      ]
    },
    {
      "cell_type": "markdown",
      "source": [],
      "metadata": {
        "id": "du6N8BZO5Efb"
      }
    },
    {
      "cell_type": "code",
      "source": [
        "#behavior of imutable argument\n",
        "x = 42\n",
        "y = x\n",
        "x += 10\n",
        "print(\"x:\", x)\n",
        "print(\"y:\", y)\n",
        "print(\"Are 'x' and 'y' identical\", x is y)\n",
        "\n"
      ],
      "metadata": {
        "colab": {
          "base_uri": "https://localhost:8080/"
        },
        "id": "Tq629rdw4F6Y",
        "outputId": "c3101d84-4f2c-4197-b515-597a1f1092e1"
      },
      "execution_count": 19,
      "outputs": [
        {
          "output_type": "stream",
          "name": "stdout",
          "text": [
            "x: 52\n",
            "y: 42\n",
            "Are 'x' and 'y' identical False\n"
          ]
        }
      ]
    },
    {
      "cell_type": "markdown",
      "source": [
        "Q7.Write a function to demonstrate the behavior of mutable and immutable arguments."
      ],
      "metadata": {
        "id": "Mko4YSg647Bf"
      }
    },
    {
      "cell_type": "code",
      "source": [
        "#behavior of mutable argument\n",
        "lst1 = [1, 2, 3]\n",
        "lst2 = lst1\n",
        "lst2.append(4)\n",
        "print(\"lst1:\", lst1)\n",
        "print(\"lst2:\", lst2)\n",
        "print(\"Are 'lst1' and 'lst2' identical\", lst1 is lst2)"
      ],
      "metadata": {
        "colab": {
          "base_uri": "https://localhost:8080/"
        },
        "id": "vq_gOIhg5IBl",
        "outputId": "e4c9a916-f6fd-43d8-aa7c-57d71680cf24"
      },
      "execution_count": 20,
      "outputs": [
        {
          "output_type": "stream",
          "name": "stdout",
          "text": [
            "lst1: [1, 2, 3, 4]\n",
            "lst2: [1, 2, 3, 4]\n",
            "Are 'lst1' and 'lst2' identical True\n"
          ]
        }
      ]
    },
    {
      "cell_type": "code",
      "source": [
        "#behavior of imutable argument\n",
        "x = 42\n",
        "y = x\n",
        "x += 10\n",
        "print(\"x:\", x)\n",
        "print(\"y:\", y)\n",
        "print(\"Are 'x' and 'y' identical\", x is y)"
      ],
      "metadata": {
        "colab": {
          "base_uri": "https://localhost:8080/"
        },
        "id": "1xy7-Gpo5UDv",
        "outputId": "3833301c-b2ed-4a77-bdbe-c401826e1db8"
      },
      "execution_count": 21,
      "outputs": [
        {
          "output_type": "stream",
          "name": "stdout",
          "text": [
            "x: 52\n",
            "y: 42\n",
            "Are 'x' and 'y' identical False\n"
          ]
        }
      ]
    },
    {
      "cell_type": "markdown",
      "source": [
        "Q8.Write a program to demonstrate the use of logical operators."
      ],
      "metadata": {
        "id": "E6bdtIZ-5Xli"
      }
    },
    {
      "cell_type": "code",
      "source": [
        "#AND OPERATOR\n",
        "a = 10\n",
        "b = 10\n",
        "c = -10\n",
        "if a > 0 and b > 0:\n",
        "    print(\"The numbers are greater than 0\")\n",
        "if a > 0 and b > 0 and c > 0:\n",
        "    print(\"The numbers are greater than 0\")\n",
        "else:\n",
        "    print(\"Atleast one number is not greater than 0\")"
      ],
      "metadata": {
        "colab": {
          "base_uri": "https://localhost:8080/"
        },
        "id": "XvsyASAf6Gi9",
        "outputId": "c8a81cad-19fc-4967-96a2-99a856113450"
      },
      "execution_count": 30,
      "outputs": [
        {
          "output_type": "stream",
          "name": "stdout",
          "text": [
            "The numbers are greater than 0\n",
            "Atleast one number is not greater than 0\n"
          ]
        }
      ]
    },
    {
      "cell_type": "code",
      "source": [
        "#OR operator\n",
        "a = 10\n",
        "b = 12\n",
        "c = 0\n",
        "if a or b or c:\n",
        "    print(\"Atleast one number has boolean value as True\")\n",
        "else:\n",
        "    print(\"All the numbers have boolean value as False\")"
      ],
      "metadata": {
        "colab": {
          "base_uri": "https://localhost:8080/"
        },
        "id": "GLOEf3At7vrX",
        "outputId": "852b587c-def8-48c7-b172-dfb0299bc3b9"
      },
      "execution_count": 31,
      "outputs": [
        {
          "output_type": "stream",
          "name": "stdout",
          "text": [
            "Atleast one number has boolean value as True\n"
          ]
        }
      ]
    },
    {
      "cell_type": "markdown",
      "source": [
        "Q9.Write a Python program to convert user input from string to integer, float, and boolean types."
      ],
      "metadata": {
        "id": "45FEU1Xg8Csa"
      }
    },
    {
      "cell_type": "code",
      "source": [
        "def convert_input():\n",
        "# Take user input as a string\n",
        "    user_input = input(\"Enter a value: \")\n",
        "\n",
        "    # Convert to integer\n",
        "    try:\n",
        "        int_value = int(user_input)\n",
        "        print(f\"Converted to integer: {int_value}\")\n",
        "    except ValueError:\n",
        "        print(\"Cannot convert to integer.\")\n",
        "\n",
        "    # Convert to float\n",
        "    try:\n",
        "        float_value = float(user_input)\n",
        "        print(f\"Converted to float: {float_value}\")\n",
        "    except ValueError:\n",
        "        print(\"Cannot convert to float.\")\n",
        "\n",
        "    # Convert to boolean\n",
        "    # For boolean conversion, '1' or 'True' will be considered as True, anything else will be False\n",
        "    bool_value = bool(user_input)\n",
        "    print(f\"Converted to boolean: {bool_value}\")\n",
        "\n",
        "# Call the function to test\n",
        "convert_input()"
      ],
      "metadata": {
        "colab": {
          "base_uri": "https://localhost:8080/"
        },
        "id": "b0rN4qL18Pd9",
        "outputId": "80c276d5-5dc6-43ec-9abd-372ad5e502be"
      },
      "execution_count": 33,
      "outputs": [
        {
          "output_type": "stream",
          "name": "stdout",
          "text": [
            "Enter a value: 25\n",
            "Converted to integer: 25\n",
            "Converted to float: 25.0\n",
            "Converted to boolean: True\n"
          ]
        }
      ]
    },
    {
      "cell_type": "markdown",
      "source": [
        "Q10.Write code to demonstrate type casting with list elements.\n"
      ],
      "metadata": {
        "id": "GUZChDSR9D7w"
      }
    },
    {
      "cell_type": "code",
      "source": [
        "string = \"56\"\n",
        "number = 44\n",
        "\n",
        "# Converting the string into an integer number.\n",
        "string_number = int(string)\n",
        "\n",
        "sum_of_numbers = number + string_number\n",
        "print(\"The Sum of both the numbers is: \", sum_of_numbers)\n"
      ],
      "metadata": {
        "colab": {
          "base_uri": "https://localhost:8080/"
        },
        "id": "IXC11mwa9JwC",
        "outputId": "caf5fd4b-808a-4b19-97e4-ddb3bec215c4"
      },
      "execution_count": 34,
      "outputs": [
        {
          "output_type": "stream",
          "name": "stdout",
          "text": [
            "The Sum of both the numbers is:  100\n"
          ]
        }
      ]
    },
    {
      "cell_type": "code",
      "source": [
        "def demonstrate_type_casting():\n",
        "    # Example 1: List with strings that can be converted to numbers\n",
        "    mixed_list_1 = [10, 2.5, \"True\", \"hello\", \"3.14\"]\n",
        "    print(\"\\nOriginal list (Example 1):\", mixed_list_1)\n",
        "\n",
        "    # Convert to integers (where possible)\n",
        "    int_list_1 = [int(float(item)) if isinstance(item, (int, float)) else 0 for item in mixed_list_1]\n",
        "\n",
        "    # Convert to floats\n",
        "    float_list_1 = [float(item) if isinstance(item, (int, float)) else 0.0 for item in mixed_list_1]\n",
        "\n",
        "    # Convert to booleans\n",
        "    bool_list_1 = [bool(item) for item in mixed_list_1]\n",
        "\n",
        "    # Convert to strings\n",
        "    str_list_1 = [str(item) for item in mixed_list_1]\n",
        "\n",
        "    # Display the results\n",
        "    print(\"\\nExample 1 - List after converting to integers:\", int_list_1)\n",
        "    print(\"Example 1 - List after converting to floats:\", float_list_1)\n",
        "    print(\"Example 1 - List after converting to booleans:\", bool_list_1)\n",
        "    print(\"Example 1 - List after converting to strings:\", str_list_1)\n",
        "\n",
        "# Call the function to demonstrate the casting\n",
        "demonstrate_type_casting()\n",
        "\n"
      ],
      "metadata": {
        "colab": {
          "base_uri": "https://localhost:8080/"
        },
        "id": "H-qBj5XZ-jnW",
        "outputId": "e35ca948-f53f-4d2a-8c86-198530e46ffd"
      },
      "execution_count": 41,
      "outputs": [
        {
          "output_type": "stream",
          "name": "stdout",
          "text": [
            "\n",
            "Original list (Example 1): [10, 2.5, 'True', 'hello', '3.14']\n",
            "\n",
            "Example 1 - List after converting to integers: [10, 2, 0, 0, 0]\n",
            "Example 1 - List after converting to floats: [10.0, 2.5, 0.0, 0.0, 0.0]\n",
            "Example 1 - List after converting to booleans: [True, True, True, True, True]\n",
            "Example 1 - List after converting to strings: ['10', '2.5', 'True', 'hello', '3.14']\n"
          ]
        }
      ]
    },
    {
      "cell_type": "markdown",
      "source": [
        "Q11.Write a program that checks if a number is positive, negative, or zero."
      ],
      "metadata": {
        "id": "1DTvFNSFBWkD"
      }
    },
    {
      "cell_type": "code",
      "source": [
        "#positive number\n",
        "num = float(input(\"Enter a number: \"))\n",
        "if num > 0:\n",
        "   print(\"Positive number\")\n",
        "elif num == 0:\n",
        "   print(\"Zero\")\n",
        "else:\n",
        "   print(\"Negative number\")"
      ],
      "metadata": {
        "colab": {
          "base_uri": "https://localhost:8080/"
        },
        "id": "V65WOO2uB3oI",
        "outputId": "dd1fa55d-7514-4e46-d6d3-25db35b15163"
      },
      "execution_count": 42,
      "outputs": [
        {
          "output_type": "stream",
          "name": "stdout",
          "text": [
            "Enter a number: 25\n",
            "Positive number\n"
          ]
        }
      ]
    },
    {
      "cell_type": "code",
      "source": [
        "#negative number\n",
        "num = float(input(\"Enter a number: \"))\n",
        "if num > 0:\n",
        "   print(\"Positive number\")\n",
        "elif num == 0:\n",
        "   print(\"Zero\")\n",
        "else:\n",
        "   print(\"Negative number\")"
      ],
      "metadata": {
        "colab": {
          "base_uri": "https://localhost:8080/"
        },
        "id": "_LltRgyUCIR4",
        "outputId": "808d0a01-71be-425e-d818-a3ae217ddaae"
      },
      "execution_count": 43,
      "outputs": [
        {
          "output_type": "stream",
          "name": "stdout",
          "text": [
            "Enter a number: -25\n",
            "Negative number\n"
          ]
        }
      ]
    },
    {
      "cell_type": "code",
      "source": [
        "#zero\n",
        "num = float(input(\"Enter a number: \"))\n",
        "if num > 0:\n",
        "   print(\"Positive number\")\n",
        "elif num == 0:\n",
        "   print(\"Zero\")\n",
        "else:\n",
        "   print(\"Negative number\")"
      ],
      "metadata": {
        "colab": {
          "base_uri": "https://localhost:8080/"
        },
        "id": "Ab0mLNB-CYGE",
        "outputId": "e4478a2e-2bdb-44ec-ae10-1ad64642c665"
      },
      "execution_count": 44,
      "outputs": [
        {
          "output_type": "stream",
          "name": "stdout",
          "text": [
            "Enter a number: 0\n",
            "Zero\n"
          ]
        }
      ]
    },
    {
      "cell_type": "markdown",
      "source": [
        "Q12.Write a for loop to print numbers from 1 to 10.\n"
      ],
      "metadata": {
        "id": "jMFeBe3MCv6H"
      }
    },
    {
      "cell_type": "code",
      "source": [
        "for i in range(1, 11):\n",
        "    print(i)"
      ],
      "metadata": {
        "colab": {
          "base_uri": "https://localhost:8080/"
        },
        "id": "Y0arQBMIC1Nu",
        "outputId": "7f99b4b0-a8ba-4959-d00d-3cf4f59a6ea7"
      },
      "execution_count": 45,
      "outputs": [
        {
          "output_type": "stream",
          "name": "stdout",
          "text": [
            "1\n",
            "2\n",
            "3\n",
            "4\n",
            "5\n",
            "6\n",
            "7\n",
            "8\n",
            "9\n",
            "10\n"
          ]
        }
      ]
    },
    {
      "cell_type": "markdown",
      "source": [
        "Q13.Write a Python program to find the sum of all even numbers between 1 and 50."
      ],
      "metadata": {
        "id": "Z9Kma2tpDKCq"
      }
    },
    {
      "cell_type": "code",
      "source": [
        "sum_even_numbers = 0\n",
        "\n",
        "# Loop through numbers from 1 to 50\n",
        "for i in range(1, 51):\n",
        "    if i % 2 == 0:  # Check if the number is even\n",
        "        sum_even_numbers += i  # Add even number to the sum\n",
        "\n",
        "# Print the result\n",
        "print(\"The sum of all even numbers between 1 and 50 is:\", sum_even_numbers)\n"
      ],
      "metadata": {
        "colab": {
          "base_uri": "https://localhost:8080/"
        },
        "id": "N1ZPLqaLDyK7",
        "outputId": "597a2ddd-4083-4e89-e4ec-f16cd375532e"
      },
      "execution_count": 1,
      "outputs": [
        {
          "output_type": "stream",
          "name": "stdout",
          "text": [
            "The sum of all even numbers between 1 and 50 is: 650\n"
          ]
        }
      ]
    },
    {
      "cell_type": "markdown",
      "source": [
        "Q14.Write a program to reverse a string using a while loop."
      ],
      "metadata": {
        "id": "z83rfDe6jO5S"
      }
    },
    {
      "cell_type": "code",
      "source": [
        "def reverse_string(input_string):\n",
        "    reversed_string = \"\"  # Initialize an empty string to store the reversed string\n",
        "    index = len(input_string) - 1  # Start from the last character of the string\n",
        "\n",
        "    while index >= 0:  # Loop until index is non-negative\n",
        "        reversed_string += input_string[index]  # Append the character to the reversed string\n",
        "        index -= 1  # Move to the previous character\n",
        "\n",
        "    return reversed_string\n",
        "\n",
        "# Test the function\n",
        "input_string = input(\"Enter a string to reverse: \")\n",
        "result = reverse_string(input_string)\n",
        "print(\"Reversed string:\", result)\n"
      ],
      "metadata": {
        "colab": {
          "base_uri": "https://localhost:8080/"
        },
        "id": "fFaiPPf7jakk",
        "outputId": "2ec5dd90-5c6f-4e7a-dc64-689fcad54c49"
      },
      "execution_count": 10,
      "outputs": [
        {
          "output_type": "stream",
          "name": "stdout",
          "text": [
            "Enter a string to reverse: pwskills\n",
            "Reversed string: sllikswp\n"
          ]
        }
      ]
    },
    {
      "cell_type": "markdown",
      "source": [
        "Q15.Write a Python program to calculate the factorial of a number provided by the user using a while loop."
      ],
      "metadata": {
        "id": "ke1J2kkSkmRi"
      }
    },
    {
      "cell_type": "code",
      "source": [
        "n = int(input(\"Enter a number to calculate its factorial: \"))\n",
        "\n",
        "# Initialize the factorial result variable\n",
        "f = 1\n",
        "\n",
        "if n < 0:\n",
        "    print(\"Factorial is not defined for negative numbers.\")\n",
        "else:\n",
        "    # Logic to calculate the factorial using a while loop\n",
        "    while n >= 1:\n",
        "        f *= n  # Multiply f by the current value of n\n",
        "        n -= 1  # Decrement n by 1\n",
        "\n",
        "    # Print the result\n",
        "    print(\"The factorial is:\", f)"
      ],
      "metadata": {
        "colab": {
          "base_uri": "https://localhost:8080/"
        },
        "id": "f3ihZqCQlxDn",
        "outputId": "bed7b239-7307-435c-c2aa-a9282b9397b7"
      },
      "execution_count": 22,
      "outputs": [
        {
          "output_type": "stream",
          "name": "stdout",
          "text": [
            "Enter a number to calculate its factorial: 7\n",
            "The factorial is: 5040\n"
          ]
        }
      ]
    }
  ]
}